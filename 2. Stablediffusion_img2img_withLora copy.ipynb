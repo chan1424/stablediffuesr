{
 "cells": [
  {
   "attachments": {},
   "cell_type": "markdown",
   "metadata": {},
   "source": [
    "## LoRA를 이용한 Stable Diffusion 이미지 생성\n"
   ]
  },
  {
   "cell_type": "code",
   "execution_count": 1,
   "metadata": {},
   "outputs": [
    {
     "data": {
      "text/plain": [
       "'diffusers>=0.11.0\\ntransformers>=4.25.1\\nscipy\\nftfy\\nfire\\nwandb\\nsafetensors\\nopencv-python\\ntorchvision\\nmediapipe'"
      ]
     },
     "execution_count": 1,
     "metadata": {},
     "output_type": "execute_result"
    }
   ],
   "source": [
    "# 해당 git을 사전에 설치해야 사용가능\n",
    "# pip install git+https://github.com/cloneofsimo/lora.git\n",
    "\n",
    "# 해당 파일을 사전에 설치해야함\n",
    "'''diffusers>=0.11.0\n",
    "transformers>=4.25.1\n",
    "scipy\n",
    "ftfy\n",
    "fire\n",
    "wandb\n",
    "safetensors\n",
    "opencv-python\n",
    "torchvision\n",
    "mediapipe'''\n",
    "\n"
   ]
  },
  {
   "cell_type": "code",
   "execution_count": 2,
   "metadata": {},
   "outputs": [],
   "source": [
    "from PIL import Image"
   ]
  },
  {
   "cell_type": "code",
   "execution_count": 3,
   "metadata": {},
   "outputs": [],
   "source": [
    "import torch"
   ]
  },
  {
   "cell_type": "code",
   "execution_count": 4,
   "metadata": {},
   "outputs": [],
   "source": [
    "import ipywidgets as widgets"
   ]
  },
  {
   "cell_type": "code",
   "execution_count": null,
   "metadata": {},
   "outputs": [],
   "source": []
  },
  {
   "cell_type": "code",
   "execution_count": 5,
   "metadata": {},
   "outputs": [],
   "source": [
    "from diffusers import StableDiffusionImg2ImgPipeline"
   ]
  },
  {
   "cell_type": "code",
   "execution_count": null,
   "metadata": {},
   "outputs": [],
   "source": [
    "# 입력이미지 설정, 본인의 이미지 파일에 대한 경로를 입력\n",
    "init_image = Image.open(\"/Users/yungchannelforyou/Desktop/Lora/KakaoTalk_Photo_2023-04-03-11-36-04.jpeg\").convert(\"RGB\").resize((512, 512))\n",
    "\n",
    "model_id = \"runwayml/stable-diffusion-v1-5\" # Stable Diffusion모델 설정"
   ]
  },
  {
   "cell_type": "code",
   "execution_count": null,
   "metadata": {},
   "outputs": [],
   "source": [
    "# img2img를 위한 파이프라인 설정\n",
    "pipe = StableDiffusionImg2ImgPipeline.from_pretrained(model_id, torch_dtype=torch.float16).to(\n",
    "    \"cuda\"\n",
    ")"
   ]
  },
  {
   "cell_type": "code",
   "execution_count": null,
   "metadata": {},
   "outputs": [],
   "source": [
    "prompt = \"korea woman\"  # 프롬프트는 픽셀 캐릭터로 고정\n",
    "torch.manual_seed(1)        # 난수 고정 , 이때 설정을 제대로 안하면 검은색 화면이 자주 출력될 수 있음\n",
    "image = pipe(prompt=prompt, image=init_image, strength=0.75, guidance_scale=7.5).images[0]  # strength와 scale을 적정하게 설정하여 실험\n",
    "\n",
    "image  # LoRA 파일없이 이미지 생성\n"
   ]
  },
  {
   "cell_type": "code",
   "execution_count": null,
   "metadata": {},
   "outputs": [],
   "source": [
    "# LoRA파일 생성을 위한 코드\n",
    "import os\n",
    "\n",
    "# 환경 변수 설정\n",
    "os.environ['MODEL_NAME'] = \"runwayml/stable-diffusion-v1-5\"\n",
    "os.environ['INSTANCE_DIR'] = \"/Users/yungchannelforyou/Desktop/Lora/dataset\"\n",
    "os.environ['OUTPUT_DIR'] = \"/Users/yungchannelforyou/Desktop/Lora/g_output\"\n",
    "\n",
    "# LoRA 미세조정 명령어 실행\n",
    "!lora_pti \\\n",
    "  --pretrained_model_name_or_path=$MODEL_NAME  \\\n",
    "  --instance_data_dir=$INSTANCE_DIR \\\n",
    "  --output_dir=$OUTPUT_DIR \\\n",
    "  --train_text_encoder \\\n",
    "  --resolution=512 \\\n",
    "  --train_batch_size=1 \\\n",
    "  --gradient_accumulation_steps=4 \\\n",
    "  --scale_lr \\\n",
    "  --learning_rate_unet=1e-4 \\\n",
    "  --learning_rate_text=1e-5 \\\n",
    "  --learning_rate_ti=5e-4 \\\n",
    "  --color_jitter \\\n",
    "  --lr_scheduler=\"linear\" \\\n",
    "  --lr_warmup_steps=0 \\\n",
    "  --placeholder_tokens=\"<s1>|<s2>\" \\\n",
    "  --use_template=\"style\" \\\n",
    "  --save_steps=100 \\\n",
    "  --max_train_steps_ti=1000 \\\n",
    "  --max_train_steps_tuning=1000 \\\n",
    "  --perform_inversion=True \\\n",
    "  --clip_ti_decay \\\n",
    "  --weight_decay_ti=0.000 \\\n",
    "  --weight_decay_lora=0.001 \\\n",
    "  --continue_inversion \\\n",
    "  --continue_inversion_lr=1e-4 \\\n",
    "  --device=\"cuda:0\" \\\n",
    "  --lora_rank=1 "
   ]
  },
  {
   "cell_type": "code",
   "execution_count": null,
   "metadata": {},
   "outputs": [],
   "source": [
    "from lora_diffusion import patch_pipe, tune_lora_scale\n",
    "\n",
    "# 생성된 LoRA파일 중 final 파일 적용\n",
    "patch_pipe(pipe, \"/Users/yungchannelforyou/Desktop/Lora/g_output/final_lora.safetensors\", patch_text=True, patch_unet=True, patch_ti=True)\n",
    "\n",
    "torch.manual_seed(1)\n",
    "image = pipe(prompt=prompt, image=init_image, strength=0.75, guidance_scale=7.5).images[0]\n",
    "\n",
    "image # LoRA 적용 후 이미지 생성\n"
   ]
  },
  {
   "cell_type": "markdown",
   "metadata": {},
   "source": [
    "#\n"
   ]
  }
 ],
 "metadata": {
  "kernelspec": {
   "display_name": "Python 3.8.12 ('pytorch_latest')",
   "language": "python",
   "name": "python3"
  },
  "language_info": {
   "codemirror_mode": {
    "name": "ipython",
    "version": 3
   },
   "file_extension": ".py",
   "mimetype": "text/x-python",
   "name": "python",
   "nbconvert_exporter": "python",
   "pygments_lexer": "ipython3",
   "version": "3.12.3"
  },
  "orig_nbformat": 4,
  "vscode": {
   "interpreter": {
    "hash": "952e1bebe1b278d85469a034aefc1854b777c1b518feedf8249123f6f86cec05"
   }
  }
 },
 "nbformat": 4,
 "nbformat_minor": 2
}
